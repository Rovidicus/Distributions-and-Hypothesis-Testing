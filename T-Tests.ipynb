{
 "cells": [
  {
   "cell_type": "code",
   "execution_count": 1,
   "id": "56539440-720b-4686-ae39-e008602fb093",
   "metadata": {},
   "outputs": [],
   "source": [
    "import pandas as pd\n",
    "import numpy as np\n",
    "import scipy.stats as stats"
   ]
  },
  {
   "cell_type": "code",
   "execution_count": 2,
   "id": "a0beba1d-fa93-4cb4-b3a8-7ec7a529c33b",
   "metadata": {},
   "outputs": [
    {
     "name": "stdout",
     "output_type": "stream",
     "text": [
      "For Males (n=27): Mean=68.90\n",
      "For Females (n=23): Mean=64.13\n"
     ]
    }
   ],
   "source": [
    "df = pd.read_csv(\"https://docs.google.com/spreadsheets/d/e/2PACX-1vRxp-hsw61ck9cpt5ExZIUhvSGT5zYzoUJl_7xr7YF5qZeazC8393q2taqwkDvMxVirgFDJm1WX3uAC/pub?output=csv\")\n",
    "sample = df.sample(n=50,random_state=42)\n",
    "female_height = sample.loc[ sample['Gender']=='Female',\"Height\"]\n",
    "male_height = sample.loc[ sample['Gender']=='Male',\"Height\"]\n",
    "## Getting means for gender height\n",
    "print(f\"For Males (n={len(male_height)}): Mean={np.mean(male_height):.2f}\")\n",
    "print(f\"For Females (n={len(female_height)}): Mean={np.mean(female_height):.2f}\")"
   ]
  },
  {
   "cell_type": "code",
   "execution_count": 3,
   "id": "61b179a8-21ae-4272-9ff6-9ea632d9e3d8",
   "metadata": {},
   "outputs": [
    {
     "data": {
      "text/plain": [
       "0"
      ]
     },
     "execution_count": 3,
     "metadata": {},
     "output_type": "execute_result"
    }
   ],
   "source": [
    "zscores_f = stats.zscore(female_height)\n",
    "outliers_f = abs(zscores_f)>3\n",
    "np.sum(outliers_f)"
   ]
  },
  {
   "cell_type": "code",
   "execution_count": 4,
   "id": "f4639538-5413-453e-acaf-673f7ca44671",
   "metadata": {},
   "outputs": [
    {
     "data": {
      "text/plain": [
       "0"
      ]
     },
     "execution_count": 4,
     "metadata": {},
     "output_type": "execute_result"
    }
   ],
   "source": [
    "zscores_m = stats.zscore(male_height)\n",
    "outliers_m = abs(zscores_m)>3\n",
    "np.sum(outliers_m)"
   ]
  },
  {
   "cell_type": "code",
   "execution_count": 5,
   "id": "8964be24-3fdd-48d0-a2ad-7a2c478451a0",
   "metadata": {},
   "outputs": [
    {
     "data": {
      "text/plain": [
       "NormaltestResult(statistic=0.33615904712566513, pvalue=0.8452866118088072)"
      ]
     },
     "execution_count": 5,
     "metadata": {},
     "output_type": "execute_result"
    }
   ],
   "source": [
    "# normal test males\n",
    "result_m = stats.normaltest(male_height)\n",
    "result_m"
   ]
  },
  {
   "cell_type": "code",
   "execution_count": 6,
   "id": "80a546a8-63a1-405f-a8c4-38381a532ff1",
   "metadata": {},
   "outputs": [
    {
     "data": {
      "text/plain": [
       "NormaltestResult(statistic=2.8307141616584417, pvalue=0.2428388848547339)"
      ]
     },
     "execution_count": 6,
     "metadata": {},
     "output_type": "execute_result"
    }
   ],
   "source": [
    "# normal test females\n",
    "result_f = stats.normaltest(female_height)\n",
    "result_f"
   ]
  },
  {
   "cell_type": "code",
   "execution_count": 7,
   "id": "77ec93cb-a7b2-4a7d-827c-50aaf7986477",
   "metadata": {},
   "outputs": [
    {
     "data": {
      "text/plain": [
       "LeveneResult(statistic=0.4550154927872889, pvalue=0.5031988559709122)"
      ]
     },
     "execution_count": 7,
     "metadata": {},
     "output_type": "execute_result"
    }
   ],
   "source": [
    "result = stats.levene(female_height, male_height)\n",
    "result"
   ]
  },
  {
   "cell_type": "code",
   "execution_count": 8,
   "id": "0f2dfc7d-8044-482d-b567-aae2db55098a",
   "metadata": {},
   "outputs": [
    {
     "data": {
      "text/plain": [
       "Ttest_indResult(statistic=-6.700593917991493, pvalue=2.1170736038110527e-08)"
      ]
     },
     "execution_count": 8,
     "metadata": {},
     "output_type": "execute_result"
    }
   ],
   "source": [
    "## Final t-test, after confirming we meet the assumptions\n",
    "result = stats.ttest_ind(female_height,male_height)\n",
    "result"
   ]
  },
  {
   "cell_type": "code",
   "execution_count": 9,
   "id": "7de34548-6873-45b1-b02d-a4bd65f6623d",
   "metadata": {},
   "outputs": [
    {
     "name": "stdout",
     "output_type": "stream",
     "text": [
      "p-value=0.0000000212\n",
      "Significant: True\n"
     ]
    }
   ],
   "source": [
    "## is our result significant\n",
    "print(f\"p-value={result.pvalue:.10f}\")\n",
    "print(f\"Significant: {result.pvalue <.05}\")"
   ]
  },
  {
   "cell_type": "code",
   "execution_count": null,
   "id": "d87fe7ce-7fb9-460d-b4f7-01b835f4e682",
   "metadata": {},
   "outputs": [],
   "source": []
  }
 ],
 "metadata": {
  "kernelspec": {
   "display_name": "Python 3 (ipykernel)",
   "language": "python",
   "name": "python3"
  },
  "language_info": {
   "codemirror_mode": {
    "name": "ipython",
    "version": 3
   },
   "file_extension": ".py",
   "mimetype": "text/x-python",
   "name": "python",
   "nbconvert_exporter": "python",
   "pygments_lexer": "ipython3",
   "version": "3.10.10"
  },
  "widgets": {
   "application/vnd.jupyter.widget-state+json": {
    "state": {},
    "version_major": 2,
    "version_minor": 0
   }
  }
 },
 "nbformat": 4,
 "nbformat_minor": 5
}
