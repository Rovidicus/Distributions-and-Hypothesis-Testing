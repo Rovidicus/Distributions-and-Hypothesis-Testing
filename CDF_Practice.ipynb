{
 "cells": [
  {
   "cell_type": "code",
   "execution_count": 1,
   "id": "c9114c14-e6ca-4022-9126-b2e2dab4600c",
   "metadata": {},
   "outputs": [],
   "source": [
    "# imports\n",
    "import pandas as pd\n",
    "import numpy as np\n",
    "import matplotlib.pyplot as plt\n",
    "import seaborn as sns\n",
    "import scipy.stats as stats"
   ]
  },
  {
   "cell_type": "markdown",
   "id": "07a23b60-c19f-4d05-8040-7a4e9093e14b",
   "metadata": {},
   "source": [
    "##### Use the normal cumulative distribution function with the mean and standard deviation of female height to calculate the probability that a female's height is:\r\n",
    "\r\n",
    "1. between 55.0 and 56.0 inches\r\n",
    "\r\n",
    "2. is less than 5 feet (60 in)\r\n",
    "\r\n",
    "3. is greater than the mean (hint: do you know this answer intuitively?)"
   ]
  },
  {
   "cell_type": "code",
   "execution_count": 3,
   "id": "bc2ce70a-c3bd-4fc0-9332-6fc1fe918260",
   "metadata": {},
   "outputs": [
    {
     "data": {
      "text/html": [
       "<div>\n",
       "<style scoped>\n",
       "    .dataframe tbody tr th:only-of-type {\n",
       "        vertical-align: middle;\n",
       "    }\n",
       "\n",
       "    .dataframe tbody tr th {\n",
       "        vertical-align: top;\n",
       "    }\n",
       "\n",
       "    .dataframe thead th {\n",
       "        text-align: right;\n",
       "    }\n",
       "</style>\n",
       "<table border=\"1\" class=\"dataframe\">\n",
       "  <thead>\n",
       "    <tr style=\"text-align: right;\">\n",
       "      <th></th>\n",
       "      <th>Gender</th>\n",
       "      <th>Height</th>\n",
       "      <th>Weight</th>\n",
       "    </tr>\n",
       "  </thead>\n",
       "  <tbody>\n",
       "    <tr>\n",
       "      <th>5000</th>\n",
       "      <td>Female</td>\n",
       "      <td>58.910732</td>\n",
       "      <td>102.088326</td>\n",
       "    </tr>\n",
       "    <tr>\n",
       "      <th>5001</th>\n",
       "      <td>Female</td>\n",
       "      <td>65.230013</td>\n",
       "      <td>141.305823</td>\n",
       "    </tr>\n",
       "    <tr>\n",
       "      <th>5002</th>\n",
       "      <td>Female</td>\n",
       "      <td>63.369004</td>\n",
       "      <td>131.041403</td>\n",
       "    </tr>\n",
       "    <tr>\n",
       "      <th>5003</th>\n",
       "      <td>Female</td>\n",
       "      <td>64.479997</td>\n",
       "      <td>128.171511</td>\n",
       "    </tr>\n",
       "    <tr>\n",
       "      <th>5004</th>\n",
       "      <td>Female</td>\n",
       "      <td>61.793096</td>\n",
       "      <td>129.781407</td>\n",
       "    </tr>\n",
       "  </tbody>\n",
       "</table>\n",
       "</div>"
      ],
      "text/plain": [
       "      Gender     Height      Weight\n",
       "5000  Female  58.910732  102.088326\n",
       "5001  Female  65.230013  141.305823\n",
       "5002  Female  63.369004  131.041403\n",
       "5003  Female  64.479997  128.171511\n",
       "5004  Female  61.793096  129.781407"
      ]
     },
     "execution_count": 3,
     "metadata": {},
     "output_type": "execute_result"
    }
   ],
   "source": [
    "df = pd.read_csv('https://docs.google.com/spreadsheets/d/e/2PACX-1vRxp-hsw61ck9cpt5ExZIUhvSGT5zYzoUJl_7xr7YF5qZeazC8393q2taqwkDvMxVirgFDJm1WX3uAC/pub?output=csv')\n",
    "females = df.loc[ df['Gender'] == 'Female'].copy()\n",
    "females.head()"
   ]
  },
  {
   "cell_type": "code",
   "execution_count": 4,
   "id": "23730743-7256-4706-aaf1-a36eef5580b9",
   "metadata": {},
   "outputs": [],
   "source": [
    "# We're only interested in Height data\n",
    "data = females['Height']"
   ]
  },
  {
   "cell_type": "code",
   "execution_count": 6,
   "id": "8cf1b164-0837-4e43-af4a-3082ae1ee4e8",
   "metadata": {},
   "outputs": [],
   "source": [
    "# To answer first question we only want a slice of data between 55 and 56 inches\n",
    "low = 55\n",
    "high = 56"
   ]
  },
  {
   "cell_type": "code",
   "execution_count": 7,
   "id": "1e43432d-a6f8-4095-acec-933dd00c0996",
   "metadata": {},
   "outputs": [],
   "source": [
    "# Defining descriptive stats\n",
    "mean = np.mean(data)\n",
    "std = np.std(data)\n",
    "min = np.min(data)\n",
    "max = np.max(data)"
   ]
  },
  {
   "cell_type": "code",
   "execution_count": 11,
   "id": "c74a6c90-f48b-45b5-acd4-87c76296840d",
   "metadata": {},
   "outputs": [
    {
     "data": {
      "text/plain": [
       "0.0015043054289559897"
      ]
     },
     "execution_count": 11,
     "metadata": {},
     "output_type": "execute_result"
    }
   ],
   "source": [
    "## we subtract to find the probability of a value occurring in the range\n",
    "stats.norm.cdf(high, loc=mean, scale=std) - stats.norm.cdf(low, loc=mean, scale=std)"
   ]
  },
  {
   "cell_type": "markdown",
   "id": "d13b2696-12cb-4db7-ae1a-1776b1894f8a",
   "metadata": {},
   "source": [
    "##### There's a .15% chance that a given female is between this specific height"
   ]
  },
  {
   "cell_type": "code",
   "execution_count": 13,
   "id": "b75d213f-645d-49dd-9712-40ed9df9d6a6",
   "metadata": {},
   "outputs": [
    {
     "data": {
      "text/plain": [
       "0.08446492725207488"
      ]
     },
     "execution_count": 13,
     "metadata": {},
     "output_type": "execute_result"
    }
   ],
   "source": [
    "# For a height less that 60 inches\n",
    "stats.norm.cdf(60, loc=mean, scale=std)"
   ]
  },
  {
   "cell_type": "markdown",
   "id": "6f15e6c5-ad18-447c-89bf-52dc35a68ad7",
   "metadata": {},
   "source": [
    "##### That leaves an 8.45% chance of height being less than five feet"
   ]
  },
  {
   "cell_type": "markdown",
   "id": "96f28652-d9d6-4bc1-873f-d9644761ebff",
   "metadata": {},
   "source": [
    "##### For final question to probability of height being greater than the mean:\n",
    "##### It is by necessity 50% of data greater and 50% lesser."
   ]
  }
 ],
 "metadata": {
  "kernelspec": {
   "display_name": "Python 3 (ipykernel)",
   "language": "python",
   "name": "python3"
  },
  "language_info": {
   "codemirror_mode": {
    "name": "ipython",
    "version": 3
   },
   "file_extension": ".py",
   "mimetype": "text/x-python",
   "name": "python",
   "nbconvert_exporter": "python",
   "pygments_lexer": "ipython3",
   "version": "3.10.10"
  },
  "widgets": {
   "application/vnd.jupyter.widget-state+json": {
    "state": {},
    "version_major": 2,
    "version_minor": 0
   }
  }
 },
 "nbformat": 4,
 "nbformat_minor": 5
}
